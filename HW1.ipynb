{
 "cells": [
  {
   "cell_type": "code",
   "execution_count": 1,
   "id": "27b6de90",
   "metadata": {},
   "outputs": [],
   "source": [
    "import numpy as np\n",
    "import pandas as pd\n",
    "import collections"
   ]
  },
  {
   "cell_type": "code",
   "execution_count": 2,
   "id": "74332aa5",
   "metadata": {},
   "outputs": [],
   "source": [
    "# Load the data\n",
    "pd.options.display.max_columns = 40\n",
    "df = pd.read_csv(\"Metro_Interstate_Traffic_Volume.csv\")"
   ]
  },
  {
   "cell_type": "code",
   "execution_count": 3,
   "id": "d301ed77",
   "metadata": {},
   "outputs": [
    {
     "data": {
      "text/html": [
       "<div>\n",
       "<style scoped>\n",
       "    .dataframe tbody tr th:only-of-type {\n",
       "        vertical-align: middle;\n",
       "    }\n",
       "\n",
       "    .dataframe tbody tr th {\n",
       "        vertical-align: top;\n",
       "    }\n",
       "\n",
       "    .dataframe thead th {\n",
       "        text-align: right;\n",
       "    }\n",
       "</style>\n",
       "<table border=\"1\" class=\"dataframe\">\n",
       "  <thead>\n",
       "    <tr style=\"text-align: right;\">\n",
       "      <th></th>\n",
       "      <th>holiday</th>\n",
       "      <th>temp</th>\n",
       "      <th>rain_1h</th>\n",
       "      <th>snow_1h</th>\n",
       "      <th>clouds_all</th>\n",
       "      <th>weather_main</th>\n",
       "      <th>weather_description</th>\n",
       "      <th>date_time</th>\n",
       "      <th>traffic_volume</th>\n",
       "    </tr>\n",
       "  </thead>\n",
       "  <tbody>\n",
       "    <tr>\n",
       "      <th>0</th>\n",
       "      <td>None</td>\n",
       "      <td>288.28</td>\n",
       "      <td>0.0</td>\n",
       "      <td>0.0</td>\n",
       "      <td>40.0</td>\n",
       "      <td>Clouds</td>\n",
       "      <td>scattered clouds</td>\n",
       "      <td>2012-10-02 09:00:00</td>\n",
       "      <td>5545.0</td>\n",
       "    </tr>\n",
       "    <tr>\n",
       "      <th>1</th>\n",
       "      <td>None</td>\n",
       "      <td>289.36</td>\n",
       "      <td>0.0</td>\n",
       "      <td>0.0</td>\n",
       "      <td>75.0</td>\n",
       "      <td>Clouds</td>\n",
       "      <td>broken clouds</td>\n",
       "      <td>2012-10-02 10:00:00</td>\n",
       "      <td>4516.0</td>\n",
       "    </tr>\n",
       "    <tr>\n",
       "      <th>2</th>\n",
       "      <td>None</td>\n",
       "      <td>289.58</td>\n",
       "      <td>0.0</td>\n",
       "      <td>0.0</td>\n",
       "      <td>90.0</td>\n",
       "      <td>Clouds</td>\n",
       "      <td>overcast clouds</td>\n",
       "      <td>2012-10-02 11:00:00</td>\n",
       "      <td>4767.0</td>\n",
       "    </tr>\n",
       "    <tr>\n",
       "      <th>3</th>\n",
       "      <td>None</td>\n",
       "      <td>290.13</td>\n",
       "      <td>0.0</td>\n",
       "      <td>0.0</td>\n",
       "      <td>90.0</td>\n",
       "      <td>Clouds</td>\n",
       "      <td>overcast clouds</td>\n",
       "      <td>2012-10-02 12:00:00</td>\n",
       "      <td>5026.0</td>\n",
       "    </tr>\n",
       "    <tr>\n",
       "      <th>4</th>\n",
       "      <td>None</td>\n",
       "      <td>291.14</td>\n",
       "      <td>0.0</td>\n",
       "      <td>0.0</td>\n",
       "      <td>75.0</td>\n",
       "      <td>Clouds</td>\n",
       "      <td>broken clouds</td>\n",
       "      <td>2012-10-02 13:00:00</td>\n",
       "      <td>4918.0</td>\n",
       "    </tr>\n",
       "    <tr>\n",
       "      <th>5</th>\n",
       "      <td>None</td>\n",
       "      <td>291.72</td>\n",
       "      <td>0.0</td>\n",
       "      <td>0.0</td>\n",
       "      <td>1.0</td>\n",
       "      <td>Clear</td>\n",
       "      <td>sky is clear</td>\n",
       "      <td>2012-10-02 14:00:00</td>\n",
       "      <td>5181.0</td>\n",
       "    </tr>\n",
       "    <tr>\n",
       "      <th>6</th>\n",
       "      <td>None</td>\n",
       "      <td>293.17</td>\n",
       "      <td>0.0</td>\n",
       "      <td>0.0</td>\n",
       "      <td>1.0</td>\n",
       "      <td>Clear</td>\n",
       "      <td>sky is clear</td>\n",
       "      <td>2012-10-02 15:00:00</td>\n",
       "      <td>5584.0</td>\n",
       "    </tr>\n",
       "    <tr>\n",
       "      <th>7</th>\n",
       "      <td>None</td>\n",
       "      <td>293.86</td>\n",
       "      <td>0.0</td>\n",
       "      <td>0.0</td>\n",
       "      <td>1.0</td>\n",
       "      <td>Clear</td>\n",
       "      <td>sky is clear</td>\n",
       "      <td>2012-10-02 16:00:00</td>\n",
       "      <td>6015.0</td>\n",
       "    </tr>\n",
       "    <tr>\n",
       "      <th>8</th>\n",
       "      <td>None</td>\n",
       "      <td>294.14</td>\n",
       "      <td>0.0</td>\n",
       "      <td>0.0</td>\n",
       "      <td>20.0</td>\n",
       "      <td>Clouds</td>\n",
       "      <td>few clouds</td>\n",
       "      <td>2012-10-02 17:00:00</td>\n",
       "      <td>5791.0</td>\n",
       "    </tr>\n",
       "    <tr>\n",
       "      <th>9</th>\n",
       "      <td>None</td>\n",
       "      <td>293.10</td>\n",
       "      <td>0.0</td>\n",
       "      <td>0.0</td>\n",
       "      <td>20.0</td>\n",
       "      <td>Clouds</td>\n",
       "      <td>few clouds</td>\n",
       "      <td>2012-10-02 18:00:00</td>\n",
       "      <td>4770.0</td>\n",
       "    </tr>\n",
       "  </tbody>\n",
       "</table>\n",
       "</div>"
      ],
      "text/plain": [
       "  holiday    temp  rain_1h  snow_1h  clouds_all weather_main  \\\n",
       "0    None  288.28      0.0      0.0        40.0       Clouds   \n",
       "1    None  289.36      0.0      0.0        75.0       Clouds   \n",
       "2    None  289.58      0.0      0.0        90.0       Clouds   \n",
       "3    None  290.13      0.0      0.0        90.0       Clouds   \n",
       "4    None  291.14      0.0      0.0        75.0       Clouds   \n",
       "5    None  291.72      0.0      0.0         1.0        Clear   \n",
       "6    None  293.17      0.0      0.0         1.0        Clear   \n",
       "7    None  293.86      0.0      0.0         1.0        Clear   \n",
       "8    None  294.14      0.0      0.0        20.0       Clouds   \n",
       "9    None  293.10      0.0      0.0        20.0       Clouds   \n",
       "\n",
       "  weather_description            date_time  traffic_volume  \n",
       "0    scattered clouds  2012-10-02 09:00:00          5545.0  \n",
       "1       broken clouds  2012-10-02 10:00:00          4516.0  \n",
       "2     overcast clouds  2012-10-02 11:00:00          4767.0  \n",
       "3     overcast clouds  2012-10-02 12:00:00          5026.0  \n",
       "4       broken clouds  2012-10-02 13:00:00          4918.0  \n",
       "5        sky is clear  2012-10-02 14:00:00          5181.0  \n",
       "6        sky is clear  2012-10-02 15:00:00          5584.0  \n",
       "7        sky is clear  2012-10-02 16:00:00          6015.0  \n",
       "8          few clouds  2012-10-02 17:00:00          5791.0  \n",
       "9          few clouds  2012-10-02 18:00:00          4770.0  "
      ]
     },
     "execution_count": 3,
     "metadata": {},
     "output_type": "execute_result"
    }
   ],
   "source": [
    "# Observe top 10 observations (int)\n",
    "df.head(10)"
   ]
  },
  {
   "cell_type": "code",
   "execution_count": 4,
   "id": "091fb849",
   "metadata": {},
   "outputs": [
    {
     "data": {
      "text/html": [
       "<div>\n",
       "<style scoped>\n",
       "    .dataframe tbody tr th:only-of-type {\n",
       "        vertical-align: middle;\n",
       "    }\n",
       "\n",
       "    .dataframe tbody tr th {\n",
       "        vertical-align: top;\n",
       "    }\n",
       "\n",
       "    .dataframe thead th {\n",
       "        text-align: right;\n",
       "    }\n",
       "</style>\n",
       "<table border=\"1\" class=\"dataframe\">\n",
       "  <thead>\n",
       "    <tr style=\"text-align: right;\">\n",
       "      <th></th>\n",
       "      <th>holiday</th>\n",
       "      <th>temp</th>\n",
       "      <th>rain_1h</th>\n",
       "      <th>snow_1h</th>\n",
       "      <th>clouds_all</th>\n",
       "      <th>weather_main</th>\n",
       "      <th>weather_description</th>\n",
       "      <th>date_time</th>\n",
       "      <th>traffic_volume</th>\n",
       "    </tr>\n",
       "  </thead>\n",
       "  <tbody>\n",
       "    <tr>\n",
       "      <th>48194</th>\n",
       "      <td>None</td>\n",
       "      <td>283.84</td>\n",
       "      <td>0.00</td>\n",
       "      <td>0.0</td>\n",
       "      <td>75.0</td>\n",
       "      <td>Rain</td>\n",
       "      <td>proximity shower rain</td>\n",
       "      <td>2018-09-30 15:00:00</td>\n",
       "      <td>4302.0</td>\n",
       "    </tr>\n",
       "    <tr>\n",
       "      <th>48195</th>\n",
       "      <td>None</td>\n",
       "      <td>283.84</td>\n",
       "      <td>0.00</td>\n",
       "      <td>0.0</td>\n",
       "      <td>75.0</td>\n",
       "      <td>Drizzle</td>\n",
       "      <td>light intensity drizzle</td>\n",
       "      <td>2018-09-30 15:00:00</td>\n",
       "      <td>4302.0</td>\n",
       "    </tr>\n",
       "    <tr>\n",
       "      <th>48196</th>\n",
       "      <td>None</td>\n",
       "      <td>284.38</td>\n",
       "      <td>0.00</td>\n",
       "      <td>0.0</td>\n",
       "      <td>75.0</td>\n",
       "      <td>Rain</td>\n",
       "      <td>light rain</td>\n",
       "      <td>2018-09-30 16:00:00</td>\n",
       "      <td>4283.0</td>\n",
       "    </tr>\n",
       "    <tr>\n",
       "      <th>48197</th>\n",
       "      <td>None</td>\n",
       "      <td>284.79</td>\n",
       "      <td>0.00</td>\n",
       "      <td>0.0</td>\n",
       "      <td>75.0</td>\n",
       "      <td>Clouds</td>\n",
       "      <td>broken clouds</td>\n",
       "      <td>2018-09-30 17:00:00</td>\n",
       "      <td>4132.0</td>\n",
       "    </tr>\n",
       "    <tr>\n",
       "      <th>48198</th>\n",
       "      <td>None</td>\n",
       "      <td>284.20</td>\n",
       "      <td>0.25</td>\n",
       "      <td>0.0</td>\n",
       "      <td>75.0</td>\n",
       "      <td>Rain</td>\n",
       "      <td>light rain</td>\n",
       "      <td>2018-09-30 18:00:00</td>\n",
       "      <td>3947.0</td>\n",
       "    </tr>\n",
       "    <tr>\n",
       "      <th>48199</th>\n",
       "      <td>None</td>\n",
       "      <td>283.45</td>\n",
       "      <td>0.00</td>\n",
       "      <td>0.0</td>\n",
       "      <td>75.0</td>\n",
       "      <td>Clouds</td>\n",
       "      <td>broken clouds</td>\n",
       "      <td>2018-09-30 19:00:00</td>\n",
       "      <td>3543.0</td>\n",
       "    </tr>\n",
       "    <tr>\n",
       "      <th>48200</th>\n",
       "      <td>None</td>\n",
       "      <td>282.76</td>\n",
       "      <td>0.00</td>\n",
       "      <td>0.0</td>\n",
       "      <td>90.0</td>\n",
       "      <td>Clouds</td>\n",
       "      <td>overcast clouds</td>\n",
       "      <td>2018-09-30 20:00:00</td>\n",
       "      <td>2781.0</td>\n",
       "    </tr>\n",
       "    <tr>\n",
       "      <th>48201</th>\n",
       "      <td>None</td>\n",
       "      <td>282.73</td>\n",
       "      <td>0.00</td>\n",
       "      <td>0.0</td>\n",
       "      <td>90.0</td>\n",
       "      <td>Thunderstorm</td>\n",
       "      <td>proximity thunderstorm</td>\n",
       "      <td>2018-09-30 21:00:00</td>\n",
       "      <td>2159.0</td>\n",
       "    </tr>\n",
       "    <tr>\n",
       "      <th>48202</th>\n",
       "      <td>None</td>\n",
       "      <td>282.09</td>\n",
       "      <td>0.00</td>\n",
       "      <td>0.0</td>\n",
       "      <td>90.0</td>\n",
       "      <td>Clouds</td>\n",
       "      <td>overcast clouds</td>\n",
       "      <td>2018-09-30 22:00:00</td>\n",
       "      <td>1450.0</td>\n",
       "    </tr>\n",
       "    <tr>\n",
       "      <th>48203</th>\n",
       "      <td>None</td>\n",
       "      <td>282.12</td>\n",
       "      <td>0.00</td>\n",
       "      <td>0.0</td>\n",
       "      <td>90.0</td>\n",
       "      <td>Clouds</td>\n",
       "      <td>overcast clouds</td>\n",
       "      <td>2018-09-30 23:00:00</td>\n",
       "      <td>954.0</td>\n",
       "    </tr>\n",
       "  </tbody>\n",
       "</table>\n",
       "</div>"
      ],
      "text/plain": [
       "      holiday    temp  rain_1h  snow_1h  clouds_all  weather_main  \\\n",
       "48194    None  283.84     0.00      0.0        75.0          Rain   \n",
       "48195    None  283.84     0.00      0.0        75.0       Drizzle   \n",
       "48196    None  284.38     0.00      0.0        75.0          Rain   \n",
       "48197    None  284.79     0.00      0.0        75.0        Clouds   \n",
       "48198    None  284.20     0.25      0.0        75.0          Rain   \n",
       "48199    None  283.45     0.00      0.0        75.0        Clouds   \n",
       "48200    None  282.76     0.00      0.0        90.0        Clouds   \n",
       "48201    None  282.73     0.00      0.0        90.0  Thunderstorm   \n",
       "48202    None  282.09     0.00      0.0        90.0        Clouds   \n",
       "48203    None  282.12     0.00      0.0        90.0        Clouds   \n",
       "\n",
       "           weather_description            date_time  traffic_volume  \n",
       "48194    proximity shower rain  2018-09-30 15:00:00          4302.0  \n",
       "48195  light intensity drizzle  2018-09-30 15:00:00          4302.0  \n",
       "48196               light rain  2018-09-30 16:00:00          4283.0  \n",
       "48197            broken clouds  2018-09-30 17:00:00          4132.0  \n",
       "48198               light rain  2018-09-30 18:00:00          3947.0  \n",
       "48199            broken clouds  2018-09-30 19:00:00          3543.0  \n",
       "48200          overcast clouds  2018-09-30 20:00:00          2781.0  \n",
       "48201   proximity thunderstorm  2018-09-30 21:00:00          2159.0  \n",
       "48202          overcast clouds  2018-09-30 22:00:00          1450.0  \n",
       "48203          overcast clouds  2018-09-30 23:00:00           954.0  "
      ]
     },
     "execution_count": 4,
     "metadata": {},
     "output_type": "execute_result"
    }
   ],
   "source": [
    "# Observe last 10 observations (int)\n",
    "df.tail(10)"
   ]
  },
  {
   "cell_type": "code",
   "execution_count": 5,
   "id": "2c6e7b3b",
   "metadata": {},
   "outputs": [
    {
     "name": "stdout",
     "output_type": "stream",
     "text": [
      "holiday, temp, rain_1h, snow_1h, clouds_all, weather_main, weather_description, date_time, traffic_volume\n"
     ]
    }
   ],
   "source": [
    "# Print all the columns/features names (int)\n",
    "print(\", \".join(df.columns))\n",
    "# type(col_name)"
   ]
  },
  {
   "cell_type": "code",
   "execution_count": 6,
   "id": "da40c0ed",
   "metadata": {},
   "outputs": [
    {
     "name": "stdout",
     "output_type": "stream",
     "text": [
      "2\n"
     ]
    }
   ],
   "source": [
    "# Q1.1 How many columns end with a vowel?\n",
    "vowels = [\"a\", \"e\", \"u\", \"i\", \"o\"]\n",
    "number_of_vowels = 0\n",
    "mas_last_letter = []\n",
    "for item in df.columns:\n",
    "    mas_last_letter = mas_last_letter + list(item[-1])\n",
    "for item in vowels:\n",
    "    a = mas_last_letter.count(item)\n",
    "    number_of_vowels = number_of_vowels + a\n",
    "print(number_of_vowels)"
   ]
  },
  {
   "cell_type": "code",
   "execution_count": 7,
   "id": "4b05cd3f",
   "metadata": {},
   "outputs": [
    {
     "name": "stdout",
     "output_type": "stream",
     "text": [
      "0\n"
     ]
    }
   ],
   "source": [
    "# Q1.2 How many columns start with a vowel?\n",
    "vowels = [\"a\", \"e\", \"u\", \"i\", \"o\"]\n",
    "number_of_vowels = 0\n",
    "mas_last_letter = []\n",
    "for item in df.columns:\n",
    "    mas_last_letter = mas_last_letter + list(item[0])\n",
    "for item in vowels:\n",
    "    a = mas_last_letter.count(item)\n",
    "    number_of_vowels = number_of_vowels + a\n",
    "print(number_of_vowels)"
   ]
  },
  {
   "cell_type": "code",
   "execution_count": 8,
   "id": "cd9540ed",
   "metadata": {},
   "outputs": [
    {
     "name": "stdout",
     "output_type": "stream",
     "text": [
      "['temp', 'rain_1h', 'snow_1h', 'clouds_all', 'weather_main', 'weather_description']\n"
     ]
    }
   ],
   "source": [
    "# Q1.3 Which columns are associated with the condition of weather?\n",
    "columns_weather = []\n",
    "columns_weather_indx = [1, 2, 3, 4, 5, 6]\n",
    "for i in columns_weather_indx:\n",
    "    columns_weather.append(df.columns[i])\n",
    "print(columns_weather)"
   ]
  },
  {
   "cell_type": "code",
   "execution_count": 9,
   "id": "b88cdc43",
   "metadata": {},
   "outputs": [
    {
     "name": "stdout",
     "output_type": "stream",
     "text": [
      "2\n"
     ]
    }
   ],
   "source": [
    "# Q1.4 How many columns have `th` in their names?\n",
    "tab = list(df.columns)\n",
    "otvet = 0\n",
    "# print(tab)\n",
    "for item in tab:   \n",
    "    sochetanie = item.find(\"th\")\n",
    "    if sochetanie != -1:\n",
    "        otvet = otvet + 1\n",
    "print(otvet)        "
   ]
  },
  {
   "cell_type": "code",
   "execution_count": 10,
   "id": "8efeb92e",
   "metadata": {},
   "outputs": [
    {
     "name": "stdout",
     "output_type": "stream",
     "text": [
      "48204\n",
      "9\n"
     ]
    }
   ],
   "source": [
    "# Q2.1 How many observations are in the data?\n",
    "print(len(df))\n",
    "# Q2.2 How many features are in the data?\n",
    "print(len(df.columns))"
   ]
  },
  {
   "cell_type": "code",
   "execution_count": 11,
   "id": "9d2ec606",
   "metadata": {},
   "outputs": [
    {
     "data": {
      "text/plain": [
       "1"
      ]
     },
     "execution_count": 11,
     "metadata": {},
     "output_type": "execute_result"
    }
   ],
   "source": [
    "# Q3.2 How many NA values are in the `temp` column?\n",
    "len(df) - df.temp.count()"
   ]
  },
  {
   "cell_type": "code",
   "execution_count": 12,
   "id": "e1a36f47",
   "metadata": {},
   "outputs": [
    {
     "name": "stdout",
     "output_type": "stream",
     "text": [
      "5\n"
     ]
    }
   ],
   "source": [
    "# Q3.5 How many explicit NA values are in the `traffic_volume` column?\n",
    "ans = len(df) - df.traffic_volume.count()\n",
    "print(ans)"
   ]
  },
  {
   "cell_type": "code",
   "execution_count": 13,
   "id": "5e73ff91",
   "metadata": {},
   "outputs": [],
   "source": [
    "df.dropna(inplace=True)"
   ]
  },
  {
   "cell_type": "code",
   "execution_count": 14,
   "id": "9dae957a",
   "metadata": {},
   "outputs": [
    {
     "data": {
      "text/html": [
       "<div>\n",
       "<style scoped>\n",
       "    .dataframe tbody tr th:only-of-type {\n",
       "        vertical-align: middle;\n",
       "    }\n",
       "\n",
       "    .dataframe tbody tr th {\n",
       "        vertical-align: top;\n",
       "    }\n",
       "\n",
       "    .dataframe thead th {\n",
       "        text-align: right;\n",
       "    }\n",
       "</style>\n",
       "<table border=\"1\" class=\"dataframe\">\n",
       "  <thead>\n",
       "    <tr style=\"text-align: right;\">\n",
       "      <th></th>\n",
       "      <th>temp</th>\n",
       "      <th>rain_1h</th>\n",
       "      <th>snow_1h</th>\n",
       "      <th>clouds_all</th>\n",
       "      <th>traffic_volume</th>\n",
       "    </tr>\n",
       "  </thead>\n",
       "  <tbody>\n",
       "    <tr>\n",
       "      <th>count</th>\n",
       "      <td>48190.000000</td>\n",
       "      <td>48190.000000</td>\n",
       "      <td>48190.000000</td>\n",
       "      <td>48190.000000</td>\n",
       "      <td>48190.000000</td>\n",
       "    </tr>\n",
       "    <tr>\n",
       "      <th>mean</th>\n",
       "      <td>281.201366</td>\n",
       "      <td>0.334356</td>\n",
       "      <td>0.000222</td>\n",
       "      <td>49.369267</td>\n",
       "      <td>3259.859079</td>\n",
       "    </tr>\n",
       "    <tr>\n",
       "      <th>std</th>\n",
       "      <td>13.337406</td>\n",
       "      <td>44.795638</td>\n",
       "      <td>0.008169</td>\n",
       "      <td>39.016127</td>\n",
       "      <td>1986.972809</td>\n",
       "    </tr>\n",
       "    <tr>\n",
       "      <th>min</th>\n",
       "      <td>0.000000</td>\n",
       "      <td>0.000000</td>\n",
       "      <td>0.000000</td>\n",
       "      <td>0.000000</td>\n",
       "      <td>0.000000</td>\n",
       "    </tr>\n",
       "    <tr>\n",
       "      <th>25%</th>\n",
       "      <td>272.160000</td>\n",
       "      <td>0.000000</td>\n",
       "      <td>0.000000</td>\n",
       "      <td>1.000000</td>\n",
       "      <td>1192.250000</td>\n",
       "    </tr>\n",
       "    <tr>\n",
       "      <th>50%</th>\n",
       "      <td>282.440000</td>\n",
       "      <td>0.000000</td>\n",
       "      <td>0.000000</td>\n",
       "      <td>64.000000</td>\n",
       "      <td>3380.000000</td>\n",
       "    </tr>\n",
       "    <tr>\n",
       "      <th>75%</th>\n",
       "      <td>291.800000</td>\n",
       "      <td>0.000000</td>\n",
       "      <td>0.000000</td>\n",
       "      <td>90.000000</td>\n",
       "      <td>4933.000000</td>\n",
       "    </tr>\n",
       "    <tr>\n",
       "      <th>max</th>\n",
       "      <td>310.070000</td>\n",
       "      <td>9831.300000</td>\n",
       "      <td>0.510000</td>\n",
       "      <td>100.000000</td>\n",
       "      <td>7280.000000</td>\n",
       "    </tr>\n",
       "  </tbody>\n",
       "</table>\n",
       "</div>"
      ],
      "text/plain": [
       "               temp       rain_1h       snow_1h    clouds_all  traffic_volume\n",
       "count  48190.000000  48190.000000  48190.000000  48190.000000    48190.000000\n",
       "mean     281.201366      0.334356      0.000222     49.369267     3259.859079\n",
       "std       13.337406     44.795638      0.008169     39.016127     1986.972809\n",
       "min        0.000000      0.000000      0.000000      0.000000        0.000000\n",
       "25%      272.160000      0.000000      0.000000      1.000000     1192.250000\n",
       "50%      282.440000      0.000000      0.000000     64.000000     3380.000000\n",
       "75%      291.800000      0.000000      0.000000     90.000000     4933.000000\n",
       "max      310.070000   9831.300000      0.510000    100.000000     7280.000000"
      ]
     },
     "execution_count": 14,
     "metadata": {},
     "output_type": "execute_result"
    }
   ],
   "source": [
    "df.describe()"
   ]
  },
  {
   "cell_type": "code",
   "execution_count": 15,
   "id": "5b1d792e",
   "metadata": {},
   "outputs": [
    {
     "name": "stdout",
     "output_type": "stream",
     "text": [
      "38\n",
      "372\n"
     ]
    }
   ],
   "source": [
    "# Q4.3 How many unique values are in the `weather_description` column?\n",
    "print(df.weather_description.unique().shape[0])\n",
    "# Q4.5 How many unique values are in the `rain_1h` column?\n",
    "print(df.rain_1h.unique().shape[0])"
   ]
  },
  {
   "cell_type": "code",
   "execution_count": 16,
   "id": "75e076f8",
   "metadata": {},
   "outputs": [
    {
     "name": "stdout",
     "output_type": "stream",
     "text": [
      "Clouds          15159\n",
      "Clear           13384\n",
      "Mist             5950\n",
      "Rain             5671\n",
      "Snow             2876\n",
      "Drizzle          1821\n",
      "Haze             1359\n",
      "Thunderstorm     1034\n",
      "Fog               912\n",
      "Smoke              20\n",
      "Squall              4\n",
      "Name: weather_main, dtype: int64\n",
      "\n",
      "sky is clear                           11658\n",
      "mist                                    5950\n",
      "overcast clouds                         5081\n",
      "broken clouds                           4665\n",
      "scattered clouds                        3458\n",
      "light rain                              3371\n",
      "few clouds                              1955\n",
      "light snow                              1946\n",
      "Sky is Clear                            1726\n",
      "moderate rain                           1664\n",
      "haze                                    1359\n",
      "light intensity drizzle                 1100\n",
      "fog                                      912\n",
      "proximity thunderstorm                   673\n",
      "drizzle                                  651\n",
      "heavy snow                               616\n",
      "heavy intensity rain                     467\n",
      "snow                                     293\n",
      "proximity shower rain                    136\n",
      "thunderstorm                             125\n",
      "heavy intensity drizzle                   64\n",
      "thunderstorm with heavy rain              63\n",
      "thunderstorm with light rain              54\n",
      "proximity thunderstorm with rain          52\n",
      "thunderstorm with rain                    37\n",
      "smoke                                     20\n",
      "very heavy rain                           18\n",
      "thunderstorm with light drizzle           15\n",
      "light intensity shower rain               13\n",
      "proximity thunderstorm with drizzle       13\n",
      "light shower snow                         11\n",
      "light rain and snow                        6\n",
      "shower drizzle                             6\n",
      "SQUALLS                                    4\n",
      "sleet                                      3\n",
      "thunderstorm with drizzle                  2\n",
      "freezing rain                              2\n",
      "shower snow                                1\n",
      "Name: weather_description, dtype: int64\n"
     ]
    }
   ],
   "source": [
    "# Q5.1 For every unique `weather_main` value give its number of occurences.\n",
    "print(df.weather_main.value_counts())\n",
    "print()\n",
    "# Q5.2 For every unique `weather_description` value give its number of occurences.\n",
    "print(df.weather_description.value_counts())"
   ]
  },
  {
   "cell_type": "code",
   "execution_count": 17,
   "id": "af363bfd",
   "metadata": {},
   "outputs": [
    {
     "name": "stdout",
     "output_type": "stream",
     "text": [
      "7280.0\n",
      "0.0\n",
      "3259.859\n",
      "1986.973\n",
      "\n",
      "\n",
      "0.51\n",
      "0.0\n",
      "0.0\n",
      "0.008\n"
     ]
    }
   ],
   "source": [
    "# Q6.1 What are the max, min, mean and the std of the `traffic_volume` column?\n",
    "a = 'traffic_volume'\n",
    "\n",
    "print(round(df.traffic_volume.max(), 3))\n",
    "print(round(df.traffic_volume.min(), 3))\n",
    "print(round(df.traffic_volume.mean(), 3))\n",
    "print(round(df.traffic_volume.std(), 3))\n",
    "print('\\n')\n",
    "# Q6.5 What are the max, min, mean and the std of the `snow_1h` column?\n",
    "print(round(df.snow_1h.max(), 3))\n",
    "print(round(df.snow_1h.min(), 3))\n",
    "print(round(df.snow_1h.mean(), 3))\n",
    "print(round(df.snow_1h.std(), 3))"
   ]
  },
  {
   "cell_type": "code",
   "execution_count": 18,
   "id": "08766d4d",
   "metadata": {},
   "outputs": [
    {
     "name": "stdout",
     "output_type": "stream",
     "text": [
      "0\n"
     ]
    },
    {
     "data": {
      "text/plain": [
       "[]"
      ]
     },
     "execution_count": 18,
     "metadata": {},
     "output_type": "execute_result"
    }
   ],
   "source": [
    "# Q7.2 How many columns have `int64` data type?\n",
    "df.dtypes\n",
    "print(len([a for a in df.dtypes if 'int64' == a]))\n",
    "# Q7.5 What are the columns with dtype == `int64`?\n",
    "list(df.select_dtypes(['int64']).columns)"
   ]
  },
  {
   "cell_type": "code",
   "execution_count": 19,
   "id": "594e4409",
   "metadata": {},
   "outputs": [
    {
     "name": "stdout",
     "output_type": "stream",
     "text": [
      "278.5\n",
      "overcast clouds\n"
     ]
    }
   ],
   "source": [
    "# Q8.1 What is the temperature of the time slot with index 777?\n",
    "print(df.iloc[777]['temp'])\n",
    "# Q8.2 What is the weather description of the time slot with index 999?\n",
    "print(df.iloc[999]['weather_description'])"
   ]
  },
  {
   "cell_type": "code",
   "execution_count": null,
   "id": "884d73f2",
   "metadata": {},
   "outputs": [],
   "source": [
    "# Q9.3 How much is cloud coverage on the index 1045?\n",
    "print(df.iloc[1045]['clouds_all'])"
   ]
  },
  {
   "cell_type": "code",
   "execution_count": 20,
   "id": "5b40fec5",
   "metadata": {
    "scrolled": true
   },
   "outputs": [
    {
     "name": "stdout",
     "output_type": "stream",
     "text": [
      "20.0\n",
      "Clear\n"
     ]
    }
   ],
   "source": [
    "# Q9.3 How much is cloud coverage on the index 1045?\n",
    "print(df.iloc[1045]['clouds_all'])\n",
    "# Q9.4 What is the weather main of the time slot from index 252?\n",
    "print(df.iloc[252][\"weather_main\"])"
   ]
  },
  {
   "cell_type": "code",
   "execution_count": 21,
   "id": "a275f39b",
   "metadata": {},
   "outputs": [
    {
     "name": "stdout",
     "output_type": "stream",
     "text": [
      "9308\n",
      "912\n"
     ]
    }
   ],
   "source": [
    "# Q10.1 How many time slots have less than 270 temperature?\n",
    "print(df.loc[df.temp < 270].shape[0])\n",
    "# Q10.4 How many time slots are foggy? (weather_main = Fog)\n",
    "print(df.loc[df.weather_main == \"Fog\"].shape[0])"
   ]
  },
  {
   "cell_type": "code",
   "execution_count": 22,
   "id": "3ad7fe03",
   "metadata": {},
   "outputs": [
    {
     "data": {
      "text/plain": [
       "4269.0"
      ]
     },
     "execution_count": 22,
     "metadata": {},
     "output_type": "execute_result"
    }
   ],
   "source": [
    "# Q11.1 What is the traffic volume of November 20th 2016, at 20:00?\n",
    "a = df.loc[df.date_time == \"2016-11-20 20:00:00\"].index\n",
    "df.iloc[a[0]]['traffic_volume']"
   ]
  },
  {
   "cell_type": "code",
   "execution_count": 23,
   "id": "db59290d",
   "metadata": {},
   "outputs": [
    {
     "name": "stdout",
     "output_type": "stream",
     "text": [
      "0.51\n"
     ]
    }
   ],
   "source": [
    "# Q11.2 What is the amount of rain in the 70th rainy time slot (non-zero rain) of the dataset?\n",
    "print(df.rain_1h[df.rain_1h > 0].iloc[70])"
   ]
  },
  {
   "cell_type": "code",
   "execution_count": 24,
   "id": "fa324cc3",
   "metadata": {},
   "outputs": [
    {
     "name": "stdout",
     "output_type": "stream",
     "text": [
      "277.72\n"
     ]
    }
   ],
   "source": [
    "# Q12.1 What is the temperature of the tenth holiday?\n",
    "dat = df.loc[df.holiday != \"None\"].index\n",
    "print(df.iloc[dat[10]]['temp'])"
   ]
  },
  {
   "cell_type": "code",
   "execution_count": 25,
   "id": "a4c0b58c",
   "metadata": {},
   "outputs": [
    {
     "name": "stdout",
     "output_type": "stream",
     "text": [
      "277.06\n"
     ]
    }
   ],
   "source": [
    "# Q12.5 What is the temperature of 1337-th time slot with clear sky (clouds_all <= 20)?\n",
    "print(df.temp[df.clouds_all < 20 | np.isclose(df.clouds_all, 20)].iloc[1337])"
   ]
  },
  {
   "cell_type": "code",
   "execution_count": 26,
   "id": "811913f9",
   "metadata": {},
   "outputs": [
    {
     "data": {
      "text/html": [
       "<div>\n",
       "<style scoped>\n",
       "    .dataframe tbody tr th:only-of-type {\n",
       "        vertical-align: middle;\n",
       "    }\n",
       "\n",
       "    .dataframe tbody tr th {\n",
       "        vertical-align: top;\n",
       "    }\n",
       "\n",
       "    .dataframe thead th {\n",
       "        text-align: right;\n",
       "    }\n",
       "</style>\n",
       "<table border=\"1\" class=\"dataframe\">\n",
       "  <thead>\n",
       "    <tr style=\"text-align: right;\">\n",
       "      <th></th>\n",
       "      <th>holiday</th>\n",
       "      <th>temp</th>\n",
       "      <th>rain_1h</th>\n",
       "      <th>snow_1h</th>\n",
       "      <th>clouds_all</th>\n",
       "      <th>weather_main</th>\n",
       "      <th>weather_description</th>\n",
       "      <th>date_time</th>\n",
       "      <th>traffic_volume</th>\n",
       "      <th>temp_in_celcius</th>\n",
       "    </tr>\n",
       "  </thead>\n",
       "  <tbody>\n",
       "    <tr>\n",
       "      <th>0</th>\n",
       "      <td>None</td>\n",
       "      <td>288.28</td>\n",
       "      <td>0.0</td>\n",
       "      <td>0.0</td>\n",
       "      <td>40.0</td>\n",
       "      <td>Clouds</td>\n",
       "      <td>scattered clouds</td>\n",
       "      <td>2012-10-02 09:00:00</td>\n",
       "      <td>5545.0</td>\n",
       "      <td>15.13</td>\n",
       "    </tr>\n",
       "    <tr>\n",
       "      <th>1</th>\n",
       "      <td>None</td>\n",
       "      <td>289.36</td>\n",
       "      <td>0.0</td>\n",
       "      <td>0.0</td>\n",
       "      <td>75.0</td>\n",
       "      <td>Clouds</td>\n",
       "      <td>broken clouds</td>\n",
       "      <td>2012-10-02 10:00:00</td>\n",
       "      <td>4516.0</td>\n",
       "      <td>16.21</td>\n",
       "    </tr>\n",
       "  </tbody>\n",
       "</table>\n",
       "</div>"
      ],
      "text/plain": [
       "  holiday    temp  rain_1h  snow_1h  clouds_all weather_main  \\\n",
       "0    None  288.28      0.0      0.0        40.0       Clouds   \n",
       "1    None  289.36      0.0      0.0        75.0       Clouds   \n",
       "\n",
       "  weather_description            date_time  traffic_volume  temp_in_celcius  \n",
       "0    scattered clouds  2012-10-02 09:00:00          5545.0            15.13  \n",
       "1       broken clouds  2012-10-02 10:00:00          4516.0            16.21  "
      ]
     },
     "execution_count": 26,
     "metadata": {},
     "output_type": "execute_result"
    }
   ],
   "source": [
    "# Q13.1 Create a `temp_in_celcius` column from the existing `temp` (kelvin) using any method above\n",
    "df['temp_in_celcius'] = df['temp'] - 273.15\n",
    "df.head(2)"
   ]
  },
  {
   "cell_type": "code",
   "execution_count": 27,
   "id": "17610644",
   "metadata": {},
   "outputs": [
    {
     "data": {
      "text/html": [
       "<div>\n",
       "<style scoped>\n",
       "    .dataframe tbody tr th:only-of-type {\n",
       "        vertical-align: middle;\n",
       "    }\n",
       "\n",
       "    .dataframe tbody tr th {\n",
       "        vertical-align: top;\n",
       "    }\n",
       "\n",
       "    .dataframe thead th {\n",
       "        text-align: right;\n",
       "    }\n",
       "</style>\n",
       "<table border=\"1\" class=\"dataframe\">\n",
       "  <thead>\n",
       "    <tr style=\"text-align: right;\">\n",
       "      <th></th>\n",
       "      <th>holiday</th>\n",
       "      <th>temp</th>\n",
       "      <th>rain_1h</th>\n",
       "      <th>snow_1h</th>\n",
       "      <th>clouds_all</th>\n",
       "      <th>weather_main</th>\n",
       "      <th>weather_description</th>\n",
       "      <th>date_time</th>\n",
       "      <th>traffic_volume</th>\n",
       "      <th>temp_in_celcius</th>\n",
       "      <th>hot</th>\n",
       "    </tr>\n",
       "  </thead>\n",
       "  <tbody>\n",
       "    <tr>\n",
       "      <th>0</th>\n",
       "      <td>None</td>\n",
       "      <td>288.28</td>\n",
       "      <td>0.0</td>\n",
       "      <td>0.0</td>\n",
       "      <td>40.0</td>\n",
       "      <td>Clouds</td>\n",
       "      <td>scattered clouds</td>\n",
       "      <td>2012-10-02 09:00:00</td>\n",
       "      <td>5545.0</td>\n",
       "      <td>15.13</td>\n",
       "      <td>False</td>\n",
       "    </tr>\n",
       "  </tbody>\n",
       "</table>\n",
       "</div>"
      ],
      "text/plain": [
       "  holiday    temp  rain_1h  snow_1h  clouds_all weather_main  \\\n",
       "0    None  288.28      0.0      0.0        40.0       Clouds   \n",
       "\n",
       "  weather_description            date_time  traffic_volume  temp_in_celcius  \\\n",
       "0    scattered clouds  2012-10-02 09:00:00          5545.0            15.13   \n",
       "\n",
       "     hot  \n",
       "0  False  "
      ]
     },
     "execution_count": 27,
     "metadata": {},
     "output_type": "execute_result"
    }
   ],
   "source": [
    "# Q13.2 Create a new bool column `hot` which indicates whether the time slot was hot (temp > 300)\n",
    "df['hot'] = df['temp'] > 300\n",
    "df.head(1)"
   ]
  },
  {
   "cell_type": "code",
   "execution_count": 28,
   "id": "419d4223",
   "metadata": {},
   "outputs": [
    {
     "data": {
      "text/html": [
       "<div>\n",
       "<style scoped>\n",
       "    .dataframe tbody tr th:only-of-type {\n",
       "        vertical-align: middle;\n",
       "    }\n",
       "\n",
       "    .dataframe tbody tr th {\n",
       "        vertical-align: top;\n",
       "    }\n",
       "\n",
       "    .dataframe thead th {\n",
       "        text-align: right;\n",
       "    }\n",
       "</style>\n",
       "<table border=\"1\" class=\"dataframe\">\n",
       "  <thead>\n",
       "    <tr style=\"text-align: right;\">\n",
       "      <th></th>\n",
       "      <th>holiday</th>\n",
       "      <th>temp</th>\n",
       "      <th>rain_1h</th>\n",
       "      <th>snow_1h</th>\n",
       "      <th>clouds_all</th>\n",
       "      <th>weather_main</th>\n",
       "      <th>weather_description</th>\n",
       "      <th>date_time</th>\n",
       "      <th>traffic_volume</th>\n",
       "      <th>temp_in_celcius</th>\n",
       "      <th>hot</th>\n",
       "      <th>rainy_and_cloudy</th>\n",
       "    </tr>\n",
       "  </thead>\n",
       "  <tbody>\n",
       "    <tr>\n",
       "      <th>0</th>\n",
       "      <td>None</td>\n",
       "      <td>288.28</td>\n",
       "      <td>0.0</td>\n",
       "      <td>0.0</td>\n",
       "      <td>40.0</td>\n",
       "      <td>Clouds</td>\n",
       "      <td>scattered clouds</td>\n",
       "      <td>2012-10-02 09:00:00</td>\n",
       "      <td>5545.0</td>\n",
       "      <td>15.13</td>\n",
       "      <td>False</td>\n",
       "      <td>False</td>\n",
       "    </tr>\n",
       "  </tbody>\n",
       "</table>\n",
       "</div>"
      ],
      "text/plain": [
       "  holiday    temp  rain_1h  snow_1h  clouds_all weather_main  \\\n",
       "0    None  288.28      0.0      0.0        40.0       Clouds   \n",
       "\n",
       "  weather_description            date_time  traffic_volume  temp_in_celcius  \\\n",
       "0    scattered clouds  2012-10-02 09:00:00          5545.0            15.13   \n",
       "\n",
       "     hot  rainy_and_cloudy  \n",
       "0  False             False  "
      ]
     },
     "execution_count": 28,
     "metadata": {},
     "output_type": "execute_result"
    }
   ],
   "source": [
    "# Q13.3 Create a new bool column `rainy_and_cloudy` which indicates whether it was rainy (>0.1) AND cloudy (>50)\n",
    "df['rainy_and_cloudy'] = np.logical_and(df['rain_1h'] > 0.1, df['clouds_all'] > 50)  \n",
    "df.head(1)"
   ]
  },
  {
   "cell_type": "code",
   "execution_count": 29,
   "id": "266e4824",
   "metadata": {},
   "outputs": [
    {
     "data": {
      "text/html": [
       "<div>\n",
       "<style scoped>\n",
       "    .dataframe tbody tr th:only-of-type {\n",
       "        vertical-align: middle;\n",
       "    }\n",
       "\n",
       "    .dataframe tbody tr th {\n",
       "        vertical-align: top;\n",
       "    }\n",
       "\n",
       "    .dataframe thead th {\n",
       "        text-align: right;\n",
       "    }\n",
       "</style>\n",
       "<table border=\"1\" class=\"dataframe\">\n",
       "  <thead>\n",
       "    <tr style=\"text-align: right;\">\n",
       "      <th></th>\n",
       "      <th>holiday</th>\n",
       "      <th>temp</th>\n",
       "      <th>rain_1h</th>\n",
       "      <th>snow_1h</th>\n",
       "      <th>clouds_all</th>\n",
       "      <th>weather_main</th>\n",
       "      <th>weather_description</th>\n",
       "      <th>date_time</th>\n",
       "      <th>traffic_volume</th>\n",
       "      <th>temp_in_celcius</th>\n",
       "      <th>hot</th>\n",
       "      <th>rainy_and_cloudy</th>\n",
       "      <th>is_holiday</th>\n",
       "    </tr>\n",
       "  </thead>\n",
       "  <tbody>\n",
       "    <tr>\n",
       "      <th>0</th>\n",
       "      <td>None</td>\n",
       "      <td>288.28</td>\n",
       "      <td>0.0</td>\n",
       "      <td>0.0</td>\n",
       "      <td>40.0</td>\n",
       "      <td>Clouds</td>\n",
       "      <td>scattered clouds</td>\n",
       "      <td>2012-10-02 09:00:00</td>\n",
       "      <td>5545.0</td>\n",
       "      <td>15.13</td>\n",
       "      <td>False</td>\n",
       "      <td>False</td>\n",
       "      <td>False</td>\n",
       "    </tr>\n",
       "  </tbody>\n",
       "</table>\n",
       "</div>"
      ],
      "text/plain": [
       "  holiday    temp  rain_1h  snow_1h  clouds_all weather_main  \\\n",
       "0    None  288.28      0.0      0.0        40.0       Clouds   \n",
       "\n",
       "  weather_description            date_time  traffic_volume  temp_in_celcius  \\\n",
       "0    scattered clouds  2012-10-02 09:00:00          5545.0            15.13   \n",
       "\n",
       "     hot  rainy_and_cloudy  is_holiday  \n",
       "0  False             False       False  "
      ]
     },
     "execution_count": 29,
     "metadata": {},
     "output_type": "execute_result"
    }
   ],
   "source": [
    "# Q13.4 Create a new bool column `is_holiday` which indicates whether the day of the time slot falls on any holiday\n",
    "df[\"is_holiday\"] = df.holiday != \"None\"\n",
    "df.head(1)"
   ]
  },
  {
   "cell_type": "code",
   "execution_count": 30,
   "id": "ee0a4f67",
   "metadata": {},
   "outputs": [
    {
     "data": {
      "text/html": [
       "<div>\n",
       "<style scoped>\n",
       "    .dataframe tbody tr th:only-of-type {\n",
       "        vertical-align: middle;\n",
       "    }\n",
       "\n",
       "    .dataframe tbody tr th {\n",
       "        vertical-align: top;\n",
       "    }\n",
       "\n",
       "    .dataframe thead th {\n",
       "        text-align: right;\n",
       "    }\n",
       "</style>\n",
       "<table border=\"1\" class=\"dataframe\">\n",
       "  <thead>\n",
       "    <tr style=\"text-align: right;\">\n",
       "      <th></th>\n",
       "      <th>holiday</th>\n",
       "      <th>temp</th>\n",
       "      <th>rain_1h</th>\n",
       "      <th>snow_1h</th>\n",
       "      <th>clouds_all</th>\n",
       "      <th>weather_main</th>\n",
       "      <th>weather_description</th>\n",
       "      <th>date_time</th>\n",
       "      <th>traffic_volume</th>\n",
       "      <th>temp_in_celcius</th>\n",
       "      <th>hot</th>\n",
       "      <th>rainy_and_cloudy</th>\n",
       "      <th>is_holiday</th>\n",
       "      <th>traffic_cat</th>\n",
       "    </tr>\n",
       "  </thead>\n",
       "  <tbody>\n",
       "    <tr>\n",
       "      <th>0</th>\n",
       "      <td>None</td>\n",
       "      <td>288.28</td>\n",
       "      <td>0.0</td>\n",
       "      <td>0.0</td>\n",
       "      <td>40.0</td>\n",
       "      <td>Clouds</td>\n",
       "      <td>scattered clouds</td>\n",
       "      <td>2012-10-02 09:00:00</td>\n",
       "      <td>5545.0</td>\n",
       "      <td>15.13</td>\n",
       "      <td>False</td>\n",
       "      <td>False</td>\n",
       "      <td>False</td>\n",
       "      <td>5</td>\n",
       "    </tr>\n",
       "  </tbody>\n",
       "</table>\n",
       "</div>"
      ],
      "text/plain": [
       "  holiday    temp  rain_1h  snow_1h  clouds_all weather_main  \\\n",
       "0    None  288.28      0.0      0.0        40.0       Clouds   \n",
       "\n",
       "  weather_description            date_time  traffic_volume  temp_in_celcius  \\\n",
       "0    scattered clouds  2012-10-02 09:00:00          5545.0            15.13   \n",
       "\n",
       "     hot  rainy_and_cloudy  is_holiday traffic_cat  \n",
       "0  False             False       False           5  "
      ]
     },
     "execution_count": 30,
     "metadata": {},
     "output_type": "execute_result"
    }
   ],
   "source": [
    "# Q13.5 Create a new column `traffic_cat` by splitting a `traffic_volume` into 5 ([1..5]) distinct intervals: 0 < x <=20%,\n",
    "# 20% < x <= 40%, ... 80% < x <= 100% percentiles. You could use `.quantile()` to compute percentiles.\n",
    "df[\"traffic_cat\"] = pd.qcut(df[\"traffic_volume\"], 5, [\"1\", \"2\", \"3\", \"4\", \"5\"])\n",
    "df.head(1)"
   ]
  },
  {
   "cell_type": "code",
   "execution_count": 31,
   "id": "5a40e59b",
   "metadata": {},
   "outputs": [
    {
     "name": "stdout",
     "output_type": "stream",
     "text": [
      "978\n"
     ]
    }
   ],
   "source": [
    "# Q14.2 How many rainy time slots that were captured in the fall, with traffic volume more than 2000?\n",
    "#list(df.date_time)\n",
    "print(np.sum(\n",
    "        np.logical_and(\n",
    "            np.logical_and(\n",
    "                df.traffic_volume > 2000,\n",
    "                pd.to_datetime(df.date_time).dt.month_name().isin([\"September\", \"October\", \"November\"]))\n",
    "            , df.weather_main == \"Rain\")\n",
    "            )\n",
    "        )"
   ]
  },
  {
   "cell_type": "code",
   "execution_count": 32,
   "id": "d6bec7c1",
   "metadata": {},
   "outputs": [
    {
     "name": "stdout",
     "output_type": "stream",
     "text": [
      "736.0\n"
     ]
    }
   ],
   "source": [
    "# Q14.5 How much is the maximum traffic volume for the time slots were captured in June 2017 and has clear sky (weather_main)?\n",
    "print(df.traffic_volume.iloc[np.argmax(np.logical_and(np.logical_and(\n",
    "                            pd.to_datetime(df.date_time).dt.year == 2017,\n",
    "                            pd.to_datetime(df.date_time).dt.month_name() == \"June\"), df.weather_main == \"Clear\"))])"
   ]
  },
  {
   "cell_type": "code",
   "execution_count": 33,
   "id": "ec8aa55f",
   "metadata": {},
   "outputs": [
    {
     "data": {
      "text/plain": [
       "5167.0"
      ]
     },
     "execution_count": 33,
     "metadata": {},
     "output_type": "execute_result"
    }
   ],
   "source": [
    "# Q15.3 What was the traffic volume of the highest amount of snow in one hour?\n",
    "df.iloc[np.argmax(df.snow_1h)].traffic_volume"
   ]
  },
  {
   "cell_type": "code",
   "execution_count": 34,
   "id": "e67da6ab",
   "metadata": {},
   "outputs": [
    {
     "data": {
      "text/plain": [
       "282.01"
      ]
     },
     "execution_count": 34,
     "metadata": {},
     "output_type": "execute_result"
    }
   ],
   "source": [
    "# Q15.4 What is the median of temperatures captured in April 2017?\n",
    "np.median(df.temp[np.logical_and(\n",
    "                pd.to_datetime(df.date_time).dt.month_name() == \"April\",\n",
    "                pd.to_datetime(df.date_time).dt.year == 2017)])"
   ]
  },
  {
   "cell_type": "code",
   "execution_count": 35,
   "id": "2804dfc3",
   "metadata": {},
   "outputs": [
    {
     "name": "stdout",
     "output_type": "stream",
     "text": [
      "13.584578809434692\n",
      "865.4426229508197\n",
      "3262.8938270065864\n",
      "5870.913350649351\n",
      "485.5536195809998\n"
     ]
    }
   ],
   "source": [
    "df['rainy_and_cloudy'] = np.logical_and(df['rain_1h'] > 0.1, df['clouds_all'] > 50)\n",
    "df.head(10)\n",
    "# Q16.1 What is the average temperature in celcius of the time slots with rainy_and_coudy=True?\n",
    "print(np.average(df.temp_in_celcius[df.rainy_and_cloudy == True]))\n",
    "# Q16.2 What is the average traffic volume on holidays?\n",
    "print(np.average(df.traffic_volume[df.holiday != \"None\"]))\n",
    "# Q16.3 What is the average traffic volume on non-holidays?\n",
    "print(np.average(df.traffic_volume[df.holiday == \"None\"]))\n",
    "# Q16.4 What is the average traffic volume in the highest quantile?\n",
    "print(np.average(df.traffic_volume[df.traffic_cat == \"5\"]))\n",
    "# Q16.5 What is the average traffic volume in the lowest quantile?\n",
    "print(np.average(df.traffic_volume[df.traffic_cat == \"1\"]))"
   ]
  },
  {
   "cell_type": "code",
   "execution_count": 36,
   "id": "1ff47852",
   "metadata": {},
   "outputs": [],
   "source": [
    "# Q17.3 Extract and store `month`\n",
    "df['month'] = pd.DatetimeIndex(df['date_time']).month\n",
    "# Q17.4 Extract and store `day`\n",
    "df['day'] = pd.DatetimeIndex(df['date_time']).day\n",
    "# df.head(10)"
   ]
  },
  {
   "cell_type": "code",
   "execution_count": 37,
   "id": "0c3dbaa0",
   "metadata": {},
   "outputs": [
    {
     "name": "stdout",
     "output_type": "stream",
     "text": [
      "6\n",
      "4749.295714285714\n"
     ]
    }
   ],
   "source": [
    "df['weekday'] = pd.DatetimeIndex(df['date_time']).weekday\n",
    "df['hour'] = pd.DatetimeIndex(df['date_time']).hour\n",
    "# # Q18.2 What is the weekday with the lowest traffic volume?\n",
    "print(df.weekday.unique()[np.argmin([np.sum(df.traffic_volume[df.weekday == i]) for i in df.weekday.unique()])])\n",
    "# df[df.weekday]['traffic_volume'].index()\n",
    "# # Q18.4 What is the average traffic volume in the time period between 15-19 hours\n",
    "print(df.traffic_volume[np.logical_and(df.hour >= 15, df.hour <= 19)].mean())"
   ]
  },
  {
   "cell_type": "code",
   "execution_count": 38,
   "id": "84365700",
   "metadata": {},
   "outputs": [
    {
     "data": {
      "text/html": [
       "<div>\n",
       "<style scoped>\n",
       "    .dataframe tbody tr th:only-of-type {\n",
       "        vertical-align: middle;\n",
       "    }\n",
       "\n",
       "    .dataframe tbody tr th {\n",
       "        vertical-align: top;\n",
       "    }\n",
       "\n",
       "    .dataframe thead th {\n",
       "        text-align: right;\n",
       "    }\n",
       "</style>\n",
       "<table border=\"1\" class=\"dataframe\">\n",
       "  <thead>\n",
       "    <tr style=\"text-align: right;\">\n",
       "      <th></th>\n",
       "      <th>holiday</th>\n",
       "      <th>temp</th>\n",
       "      <th>rain_1h</th>\n",
       "      <th>snow_1h</th>\n",
       "      <th>clouds_all</th>\n",
       "      <th>weather_main</th>\n",
       "      <th>weather_description</th>\n",
       "      <th>date_time</th>\n",
       "      <th>traffic_volume</th>\n",
       "      <th>temp_in_celcius</th>\n",
       "      <th>hot</th>\n",
       "      <th>rainy_and_cloudy</th>\n",
       "      <th>is_holiday</th>\n",
       "      <th>traffic_cat</th>\n",
       "      <th>month</th>\n",
       "      <th>day</th>\n",
       "      <th>weekday</th>\n",
       "      <th>hour</th>\n",
       "    </tr>\n",
       "  </thead>\n",
       "  <tbody>\n",
       "    <tr>\n",
       "      <th>0</th>\n",
       "      <td>None</td>\n",
       "      <td>288.28</td>\n",
       "      <td>0.0</td>\n",
       "      <td>0.0</td>\n",
       "      <td>40.0</td>\n",
       "      <td>Clouds</td>\n",
       "      <td>scattered clouds</td>\n",
       "      <td>2012-10-02 09:00:00</td>\n",
       "      <td>5545.0</td>\n",
       "      <td>15.13</td>\n",
       "      <td>False</td>\n",
       "      <td>False</td>\n",
       "      <td>False</td>\n",
       "      <td>5</td>\n",
       "      <td>10</td>\n",
       "      <td>2</td>\n",
       "      <td>1</td>\n",
       "      <td>9</td>\n",
       "    </tr>\n",
       "    <tr>\n",
       "      <th>1</th>\n",
       "      <td>None</td>\n",
       "      <td>289.36</td>\n",
       "      <td>0.0</td>\n",
       "      <td>0.0</td>\n",
       "      <td>75.0</td>\n",
       "      <td>Clouds</td>\n",
       "      <td>broken clouds</td>\n",
       "      <td>2012-10-02 10:00:00</td>\n",
       "      <td>4516.0</td>\n",
       "      <td>16.21</td>\n",
       "      <td>False</td>\n",
       "      <td>False</td>\n",
       "      <td>False</td>\n",
       "      <td>4</td>\n",
       "      <td>10</td>\n",
       "      <td>2</td>\n",
       "      <td>1</td>\n",
       "      <td>10</td>\n",
       "    </tr>\n",
       "  </tbody>\n",
       "</table>\n",
       "</div>"
      ],
      "text/plain": [
       "  holiday    temp  rain_1h  snow_1h  clouds_all weather_main  \\\n",
       "0    None  288.28      0.0      0.0        40.0       Clouds   \n",
       "1    None  289.36      0.0      0.0        75.0       Clouds   \n",
       "\n",
       "  weather_description            date_time  traffic_volume  temp_in_celcius  \\\n",
       "0    scattered clouds  2012-10-02 09:00:00          5545.0            15.13   \n",
       "1       broken clouds  2012-10-02 10:00:00          4516.0            16.21   \n",
       "\n",
       "     hot  rainy_and_cloudy  is_holiday traffic_cat  month  day  weekday  hour  \n",
       "0  False             False       False           5     10    2        1     9  \n",
       "1  False             False       False           4     10    2        1    10  "
      ]
     },
     "execution_count": 38,
     "metadata": {},
     "output_type": "execute_result"
    }
   ],
   "source": [
    "df.head(2)"
   ]
  },
  {
   "cell_type": "code",
   "execution_count": 39,
   "id": "49a88356",
   "metadata": {},
   "outputs": [
    {
     "data": {
      "text/plain": [
       "year\n",
       "2012    3225.0\n",
       "2013    3344.0\n",
       "2014    3316.0\n",
       "2015    3368.0\n",
       "2016    3258.5\n",
       "2017    3530.0\n",
       "2018    3400.0\n",
       "Name: traffic_volume, dtype: float64"
      ]
     },
     "execution_count": 39,
     "metadata": {},
     "output_type": "execute_result"
    }
   ],
   "source": [
    "# Q19.1 `traffic_by_year` groupby `year` and compute median traffic volume.\n",
    "df['year'] = pd.DatetimeIndex(df['date_time']).year\n",
    "traffic_by_year = df.groupby('year')\n",
    "traffic_by_year['traffic_volume'].median()"
   ]
  },
  {
   "cell_type": "code",
   "execution_count": 40,
   "id": "947ea4b9",
   "metadata": {},
   "outputs": [
    {
     "data": {
      "text/plain": [
       "weekday\n",
       "0    3619.0\n",
       "1    4070.0\n",
       "2    4315.0\n",
       "3    4280.0\n",
       "4    4336.5\n",
       "5    3003.0\n",
       "6    2260.0\n",
       "Name: traffic_volume, dtype: float64"
      ]
     },
     "execution_count": 40,
     "metadata": {},
     "output_type": "execute_result"
    }
   ],
   "source": [
    "# Q19.2 `traffic_by_weekday` groupby `weekday` and compute median traffic volume.\n",
    "traffic_by_weekday = df.groupby('weekday')\n",
    "traffic_by_weekday['traffic_volume'].median()"
   ]
  },
  {
   "cell_type": "code",
   "execution_count": 41,
   "id": "8161c44f",
   "metadata": {},
   "outputs": [
    {
     "data": {
      "text/plain": [
       "traffic_cat\n",
       "0    8.285184\n",
       "1    8.145855\n",
       "2    8.041561\n",
       "3    8.107285\n",
       "4    7.764044\n",
       "5    8.036049\n",
       "6    7.972072\n",
       "Name: temp_in_celcius, dtype: float64"
      ]
     },
     "execution_count": 41,
     "metadata": {},
     "output_type": "execute_result"
    }
   ],
   "source": [
    "# Q19.3 `temperature_by_traffic` groupby `traffic_cat` and compute average temperature in celsius.\n",
    "df.traffic_cat = pd.DatetimeIndex(df.date_time).weekday\n",
    "temperature_by_traffic = df.groupby('traffic_cat')\n",
    "temperature_by_traffic.temp_in_celcius.mean()"
   ]
  },
  {
   "cell_type": "code",
   "execution_count": 42,
   "id": "8248756d",
   "metadata": {},
   "outputs": [],
   "source": [
    "# df = df.drop(columns = ['traffic_cat'],axis = 1)\n",
    "# df = df.drop(columns = ['holiday_10'],axis = 1)\n",
    "# df['year'] = pd.DatetimeIndex(df['date_time']).year"
   ]
  },
  {
   "cell_type": "code",
   "execution_count": 43,
   "id": "dc441652",
   "metadata": {},
   "outputs": [
    {
     "data": {
      "text/html": [
       "<div>\n",
       "<style scoped>\n",
       "    .dataframe tbody tr th:only-of-type {\n",
       "        vertical-align: middle;\n",
       "    }\n",
       "\n",
       "    .dataframe tbody tr th {\n",
       "        vertical-align: top;\n",
       "    }\n",
       "\n",
       "    .dataframe thead th {\n",
       "        text-align: right;\n",
       "    }\n",
       "</style>\n",
       "<table border=\"1\" class=\"dataframe\">\n",
       "  <thead>\n",
       "    <tr style=\"text-align: right;\">\n",
       "      <th></th>\n",
       "      <th>temp</th>\n",
       "      <th>is_holiday</th>\n",
       "      <th>year</th>\n",
       "      <th>month</th>\n",
       "      <th>day</th>\n",
       "      <th>weekday</th>\n",
       "      <th>hour</th>\n",
       "      <th>temp_in_celcius</th>\n",
       "    </tr>\n",
       "  </thead>\n",
       "  <tbody>\n",
       "    <tr>\n",
       "      <th>0</th>\n",
       "      <td>288.28</td>\n",
       "      <td>False</td>\n",
       "      <td>2012</td>\n",
       "      <td>10</td>\n",
       "      <td>2</td>\n",
       "      <td>1</td>\n",
       "      <td>9</td>\n",
       "      <td>15.13</td>\n",
       "    </tr>\n",
       "    <tr>\n",
       "      <th>1</th>\n",
       "      <td>289.36</td>\n",
       "      <td>False</td>\n",
       "      <td>2012</td>\n",
       "      <td>10</td>\n",
       "      <td>2</td>\n",
       "      <td>1</td>\n",
       "      <td>10</td>\n",
       "      <td>16.21</td>\n",
       "    </tr>\n",
       "  </tbody>\n",
       "</table>\n",
       "</div>"
      ],
      "text/plain": [
       "     temp  is_holiday  year  month  day  weekday  hour  temp_in_celcius\n",
       "0  288.28       False  2012     10    2        1     9            15.13\n",
       "1  289.36       False  2012     10    2        1    10            16.21"
      ]
     },
     "execution_count": 43,
     "metadata": {},
     "output_type": "execute_result"
    }
   ],
   "source": [
    "# Q20 Separate your data into inputs and targets, keeping only relevant inputs. Drop any features computed from the output eg. `traffic_cat`\n",
    "# df.drop(columns = ['holiday_10'],axis = 1)\n",
    "df['year'] = pd.DatetimeIndex(df['date_time']).year\n",
    "y = df[\"traffic_volume\"].values\n",
    "good_columns = ['temp', 'is_holiday', 'year', 'month', 'day', 'weekday', 'hour', \"temp_in_celcius\"]\n",
    "X = df[good_columns]\n",
    "X.index = pd.Index(range(X.shape[0]))\n",
    "X.head(2)"
   ]
  },
  {
   "cell_type": "code",
   "execution_count": 44,
   "id": "67a5c32c",
   "metadata": {},
   "outputs": [
    {
     "name": "stdout",
     "output_type": "stream",
     "text": [
      "Rows in train: 40159\n",
      "Rows in test: 8031\n"
     ]
    }
   ],
   "source": [
    "# Q21 Split your data into train and test parts.\n",
    "# How many records (rows) do you have in train and test tables? (list of int)?\n",
    "# Use sklearn.model_selection.TimeSeriesSplit with n_splits=5\n",
    "from sklearn.model_selection import TimeSeriesSplit\n",
    "tms = TimeSeriesSplit(n_splits=5)\n",
    "all_g = tms.split(df)\n",
    "\n",
    "for _ in range (0,5-1):\n",
    "    next(all_g)\n",
    "    \n",
    "train_index, test_index = next(all_g)\n",
    "x_train = X.iloc[train_index]\n",
    "x_test = X.iloc[test_index]\n",
    "y_train = df.iloc[train_index]['traffic_volume']\n",
    "y_test = df.iloc[test_index]['traffic_volume']\n",
    "\n",
    "print('Rows in train:', x_train.shape[0])\n",
    "print('Rows in test:', x_test.shape[0])"
   ]
  },
  {
   "cell_type": "code",
   "execution_count": 45,
   "id": "c30250c4",
   "metadata": {},
   "outputs": [],
   "source": [
    "# Create a predictive regression model of a traffic volume.\n",
    "\n",
    "# Q22.1 Use linear regression with l2 regularization (Ridge regression)\n",
    "# Q22.2 Use decision tree regression\n",
    "# Q22.3 Use k nearest neighbours regression\n",
    "from sklearn.preprocessing import MinMaxScaler\n",
    "scaler = MinMaxScaler()\n",
    "scaler.fit(x_train)\n",
    "\n",
    "# From lectures, idk\n",
    "\n",
    "x_train = scaler.transform(x_train)\n",
    "x_test = scaler.transform(x_test)\n",
    "from sklearn.linear_model import Ridge\n",
    "from sklearn.tree import DecisionTreeRegressor\n",
    "from sklearn.neighbors import KNeighborsRegressor\n",
    "\n",
    "regRidge = Ridge()\n",
    "regTree = DecisionTreeRegressor()\n",
    "regKNN = KNeighborsRegressor()\n"
   ]
  },
  {
   "cell_type": "code",
   "execution_count": 46,
   "id": "da13efc6",
   "metadata": {},
   "outputs": [
    {
     "name": "stdout",
     "output_type": "stream",
     "text": [
      "3\n"
     ]
    }
   ],
   "source": [
    "# Use grid search to select optimal hyperparamters of your models. \n",
    "\n",
    "from sklearn.metrics import mean_squared_error as mse\n",
    "from sklearn.model_selection import GridSearchCV\n",
    "from sklearn.model_selection import KFold\n",
    "\n",
    "# Q23.1 Alpha for a ridge regression\n",
    "\n",
    "cv = KFold(n_splits=5)\n",
    "ridgeGrid = {\n",
    "    'alpha':np.logspace(-2,5,100)\n",
    "}\n",
    "ridgeGs = GridSearchCV(regRidge, param_grid=ridgeGrid, cv=cv)\n",
    "ridgeGs.fit(x_train, y_train)\n",
    "\n",
    "# Q23.2 Depth for the tree\n",
    "\n",
    "treeGrid = {\n",
    "    'max_depth':range (1,20)\n",
    "}\n",
    "treeGs = GridSearchCV(regTree, param_grid=treeGrid, cv=cv)\n",
    "treeGs.fit(x_train, y_train)\n",
    "\n",
    "# Q23.3 Number of neighbours for the knn\n",
    "\n",
    "treeGrid = {\n",
    "    'n_neighbors':range(3,22,2)\n",
    "}\n",
    "knnGs = GridSearchCV(regKNN, param_grid=treeGrid, cv=cv)\n",
    "knnGs.fit(x_train, y_train)\n",
    "\n",
    "print(knnGs.best_estimator_.n_neighbors )"
   ]
  },
  {
   "cell_type": "code",
   "execution_count": 47,
   "id": "9111bc01",
   "metadata": {},
   "outputs": [
    {
     "name": "stdout",
     "output_type": "stream",
     "text": [
      "ridge train mse = 3340784.3092063474\n",
      "ridge test mse = 3295542.2627696022\n",
      "\n",
      "\n",
      "tree train mse = 237324.02560263654\n",
      "tree test mse = 281038.1813484397\n",
      "\n",
      "\n",
      "knn train mse = 104462.44448317937\n",
      "knn test mse = 344457.9778220507\n"
     ]
    }
   ],
   "source": [
    "# Compute train and test mean squared error for your best models (list of float).\n",
    "\n",
    "from sklearn.metrics import mean_squared_error as mse\n",
    "\n",
    "# Q24.1 Train, test MSE using linear regression with l2 regularization\n",
    "\n",
    "ridge_train_mse = mse(y_train, ridgeGs.best_estimator_.predict(x_train))\n",
    "ridge_test_mse = mse(y_test, ridgeGs.best_estimator_.predict(x_test))\n",
    "\n",
    "print('ridge train mse =',ridge_train_mse)\n",
    "print('ridge test mse =',ridge_test_mse)\n",
    "print('\\n')\n",
    "\n",
    "# Q24.2 Train, test MSE using decision tree regression\n",
    "\n",
    "tree_train_mse = mse(y_train, treeGs.best_estimator_.predict(x_train))\n",
    "tree_test_mse = mse(y_test, treeGs.best_estimator_.predict(x_test))\n",
    "\n",
    "print('tree train mse =',tree_train_mse)\n",
    "print('tree test mse =',tree_test_mse)\n",
    "print('\\n')\n",
    "\n",
    "# Q24.3 Train, test MSE using k nearest neighbours regression\n",
    "\n",
    "knn_train_mse = mse(y_train, knnGs.best_estimator_.predict(x_train))\n",
    "knn_test_mse = mse(y_test, knnGs.best_estimator_.predict(x_test))\n",
    "\n",
    "print('knn train mse =',knn_train_mse)\n",
    "print('knn test mse =',knn_test_mse)"
   ]
  },
  {
   "cell_type": "code",
   "execution_count": 48,
   "id": "e34c7868",
   "metadata": {},
   "outputs": [
    {
     "name": "stdout",
     "output_type": "stream",
     "text": [
      "ridge train R^2 = 0.15674971429102114\n",
      "ridge test R^2 = 0.15038231412714065\n",
      "\n",
      "\n",
      "tree train R^2 = 0.9400968353917555\n",
      "tree test R^2 = 0.9275460636701076\n",
      "\n",
      "\n",
      "knn train R^2 = 0.9400968353917555\n",
      "knn test R^2 = 0.9275460636701076\n"
     ]
    }
   ],
   "source": [
    "# Compute train and test R^2 for your best models (list of float).\n",
    "from sklearn.metrics import r2_score as r2\n",
    "from scipy.stats import pearsonr\n",
    "\n",
    "# Q25.1 Train, test R^2 using linear regression with l2 regularization\n",
    "\n",
    "ridge_train_r2 = r2(y_train, ridgeGs.best_estimator_.predict(x_train))\n",
    "ridge_test_r2 = r2(y_test, ridgeGs.best_estimator_.predict(x_test))\n",
    "\n",
    "print('ridge train R^2 =',ridge_train_r2)\n",
    "print('ridge test R^2 =',ridge_test_r2)\n",
    "print('\\n')\n",
    "\n",
    "# Q25.2 Train, test R^2 using decision tree regression\n",
    "\n",
    "tree_train_r2 = r2(y_train, treeGs.best_estimator_.predict(x_train))\n",
    "tree_test_r2 = r2(y_test, treeGs.best_estimator_.predict(x_test))\n",
    "\n",
    "print('tree train R^2 =',tree_train_r2)\n",
    "print('tree test R^2 =',tree_test_r2)\n",
    "print('\\n')\n",
    "\n",
    "# Q25.3 Train, test R^2 using k nearest neighbours regression\n",
    "\n",
    "knn_train_r2 = r2(y_train, knnGs.best_estimator_.predict(x_train))\n",
    "knn_test_r2 = r2(y_test, knnGs.best_estimator_.predict(x_test))\n",
    "\n",
    "print('knn train R^2 =',tree_train_r2)\n",
    "print('knn test R^2 =',tree_test_r2)"
   ]
  },
  {
   "cell_type": "code",
   "execution_count": 49,
   "id": "01637053",
   "metadata": {},
   "outputs": [
    {
     "name": "stdout",
     "output_type": "stream",
     "text": [
      "Is_holiday:  0.9891988885766699\n",
      "Temperature:  1.0\n",
      "Month:  0.3995846459471136\n",
      "Hour:  0.9891988885768628\n",
      "Weekday:  0.6568988336537167\n"
     ]
    }
   ],
   "source": [
    "# Q26 Which features have largest (by absolute value) weight in your linear model (top 5 features)? (list of str).\n",
    "features = ridgeGs.best_estimator_.coef_.copy()\n",
    "maxImportance = np.absolute(features).max()\n",
    "feаtCoef = {feature : coef for feature, coef in zip(good_columns,np.absolute(features)/maxImportance)}\n",
    "sortedFeats = sorted(feаtCoef.items(), key=lambda x: x[1], reverse = True)\n",
    "\n",
    "print('Is_holiday: ', sortedFeats[2][1])\n",
    "print('Temperature: ', sortedFeats[0][1])\n",
    "print('Month: ', sortedFeats[4][1])\n",
    "print('Hour: ', sortedFeats[1][1])\n",
    "print('Weekday: ', sortedFeats[3][1])"
   ]
  }
 ],
 "metadata": {
  "kernelspec": {
   "display_name": "Python 3 (ipykernel)",
   "language": "python",
   "name": "python3"
  },
  "language_info": {
   "codemirror_mode": {
    "name": "ipython",
    "version": 3
   },
   "file_extension": ".py",
   "mimetype": "text/x-python",
   "name": "python",
   "nbconvert_exporter": "python",
   "pygments_lexer": "ipython3",
   "version": "3.9.12"
  }
 },
 "nbformat": 4,
 "nbformat_minor": 5
}
